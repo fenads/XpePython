{
  "cells": [
    {
      "cell_type": "code",
      "execution_count": 2,
      "metadata": {
        "id": "UvadzEiepiWz",
        "outputId": "6cb5d8b4-4095-4613-fda6-00df64ea41ca",
        "colab": {
          "base_uri": "https://localhost:8080/"
        }
      },
      "outputs": [
        {
          "output_type": "stream",
          "name": "stdout",
          "text": [
            "Olá Luiz Silva seja bem-vindo!\n"
          ]
        }
      ],
      "source": [
        "nome = 'Luiz Silva'\n",
        "print('Olá', nome, 'seja bem-vindo!')"
      ]
    },
    {
      "cell_type": "code",
      "source": [
        "pessoa = 'Geovanna'\n",
        "print('Olá', pessoa)"
      ],
      "metadata": {
        "id": "n0QXNiRPpunY",
        "outputId": "3cb2aa2d-18b2-422e-898d-a5c07b5eb475",
        "colab": {
          "base_uri": "https://localhost:8080/"
        }
      },
      "execution_count": 3,
      "outputs": [
        {
          "output_type": "stream",
          "name": "stdout",
          "text": [
            "Olá Geovanna\n"
          ]
        }
      ]
    }
  ],
  "metadata": {
    "kernelspec": {
      "display_name": "Python 3",
      "language": "python",
      "name": "python3"
    },
    "language_info": {
      "codemirror_mode": {
        "name": "ipython",
        "version": 3
      },
      "file_extension": ".py",
      "mimetype": "text/x-python",
      "name": "python",
      "nbconvert_exporter": "python",
      "pygments_lexer": "ipython3",
      "version": "3.12.0"
    },
    "colab": {
      "provenance": []
    }
  },
  "nbformat": 4,
  "nbformat_minor": 0
}